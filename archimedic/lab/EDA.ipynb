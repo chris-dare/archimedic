{
 "cells": [
  {
   "cell_type": "markdown",
   "id": "249d9052-1a6b-4184-b3f1-97550402fcb6",
   "metadata": {},
   "source": [
    "# Notebook for Exploratory Data Analysis"
   ]
  },
  {
   "cell_type": "code",
   "execution_count": 2,
   "id": "5b041111-df74-4a9d-af84-a08828859a50",
   "metadata": {
    "scrolled": true
   },
   "outputs": [],
   "source": [
    "from archimedic.config import Settings"
   ]
  }
 ],
 "metadata": {
  "kernelspec": {
   "display_name": "Python 3 (ipykernel)",
   "language": "python",
   "name": "python3"
  },
  "language_info": {
   "codemirror_mode": {
    "name": "ipython",
    "version": 3
   },
   "file_extension": ".py",
   "mimetype": "text/x-python",
   "name": "python",
   "nbconvert_exporter": "python",
   "pygments_lexer": "ipython3",
   "version": "3.10.13"
  }
 },
 "nbformat": 4,
 "nbformat_minor": 5
}
